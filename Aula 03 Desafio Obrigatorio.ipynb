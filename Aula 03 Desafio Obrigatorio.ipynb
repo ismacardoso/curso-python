{
 "cells": [
  {
   "cell_type": "code",
   "execution_count": 12,
   "metadata": {},
   "outputs": [],
   "source": [
    "from datetime import datetime\n",
    "from plyer import notification"
   ]
  },
  {
   "cell_type": "code",
   "execution_count": 14,
   "metadata": {},
   "outputs": [],
   "source": [
    "def alerta(nivel, base, etapa):\n",
    "    if nivel ==1:\n",
    "        nivel = 'Alerta Baixo'\n",
    "    elif nivel==2:\n",
    "        nivel = 'Alerta Médio'\n",
    "    elif nivel==3:\n",
    "        nivel = 'Alerta Alto'\n",
    "    notification.notify(\n",
    "    title = f'ALERTA: {nivel}',\n",
    "    message = f'Falha no carregamento da base {base} na etapa {etapa} \\n {datetime.now()}', \n",
    "    timeout = 10)"
   ]
  }
 ],
 "metadata": {
  "kernelspec": {
   "display_name": "Python 3",
   "language": "python",
   "name": "python3"
  },
  "language_info": {
   "codemirror_mode": {
    "name": "ipython",
    "version": 3
   },
   "file_extension": ".py",
   "mimetype": "text/x-python",
   "name": "python",
   "nbconvert_exporter": "python",
   "pygments_lexer": "ipython3",
   "version": "3.11.5"
  },
  "orig_nbformat": 4
 },
 "nbformat": 4,
 "nbformat_minor": 2
}
