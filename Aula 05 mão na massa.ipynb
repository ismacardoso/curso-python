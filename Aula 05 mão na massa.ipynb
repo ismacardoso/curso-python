{
 "cells": [
  {
   "cell_type": "code",
   "execution_count": 1,
   "metadata": {},
   "outputs": [
    {
     "name": "stdout",
     "output_type": "stream",
     "text": [
      "4\n",
      "8\n"
     ]
    }
   ],
   "source": [
    "from geometria import retangulo\n",
    "\n",
    "quadrado = retangulo(2,2)\n",
    "\n",
    "print(quadrado.area())\n",
    "print(quadrado.perimetro())\n",
    "\n"
   ]
  },
  {
   "cell_type": "code",
   "execution_count": 1,
   "metadata": {},
   "outputs": [],
   "source": [
    "class conta:\n",
    "    def __init__(self, saldo, titular):\n",
    "        self.saldo = saldo\n",
    "        self.titular = titular\n",
    "    \n",
    "    def depositar(self, valor):\n",
    "        self.saldo = self.saldo + valor\n",
    "\n",
    "    def sacar(self, valor):\n",
    "        self.saldo = self.saldo - valor\n"
   ]
  },
  {
   "cell_type": "code",
   "execution_count": 3,
   "metadata": {},
   "outputs": [],
   "source": [
    "minha_conta = conta(500, 'Ismael')"
   ]
  },
  {
   "cell_type": "code",
   "execution_count": 8,
   "metadata": {},
   "outputs": [
    {
     "name": "stdout",
     "output_type": "stream",
     "text": [
      "750\n"
     ]
    }
   ],
   "source": [
    "minha_conta.depositar(200)\n",
    "print(minha_conta.saldo)\n"
   ]
  },
  {
   "cell_type": "code",
   "execution_count": 9,
   "metadata": {},
   "outputs": [
    {
     "name": "stdout",
     "output_type": "stream",
     "text": [
      "600\n"
     ]
    }
   ],
   "source": [
    "minha_conta.sacar(150)\n",
    "print(minha_conta.saldo)"
   ]
  }
 ],
 "metadata": {
  "kernelspec": {
   "display_name": "Python 3",
   "language": "python",
   "name": "python3"
  },
  "language_info": {
   "codemirror_mode": {
    "name": "ipython",
    "version": 3
   },
   "file_extension": ".py",
   "mimetype": "text/x-python",
   "name": "python",
   "nbconvert_exporter": "python",
   "pygments_lexer": "ipython3",
   "version": "3.11.5"
  },
  "orig_nbformat": 4
 },
 "nbformat": 4,
 "nbformat_minor": 2
}
