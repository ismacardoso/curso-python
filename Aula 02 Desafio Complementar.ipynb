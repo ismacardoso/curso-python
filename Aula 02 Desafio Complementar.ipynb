{
 "cells": [
  {
   "cell_type": "code",
   "execution_count": 4,
   "metadata": {},
   "outputs": [
    {
     "name": "stdout",
     "output_type": "stream",
     "text": [
      "23.529411764705884\n"
     ]
    }
   ],
   "source": [
    "#Desafio complementar 1\n",
    "peso = float(input(\"Qual o seu peso em quilos?\"))\n",
    "altura = float(input(\"Qual a sua altura em metros?\"))\n",
    "IMC = peso / altura**2\n",
    "print(IMC)"
   ]
  },
  {
   "cell_type": "code",
   "execution_count": 8,
   "metadata": {},
   "outputs": [
    {
     "data": {
      "text/plain": [
       "['1', '5', '8', '6', '2']"
      ]
     },
     "execution_count": 8,
     "metadata": {},
     "output_type": "execute_result"
    }
   ],
   "source": [
    "#Desafio complementar 2\n",
    "[input(\"Insira um número inteiro\"), input(\"Insira outro número inteiro\"), input(\"Insira outro número inteiro\"), input(\"Insira outro número inteiro\"), input(\"Insira outro número inteiro\")]"
   ]
  },
  {
   "cell_type": "code",
   "execution_count": 10,
   "metadata": {},
   "outputs": [
    {
     "data": {
      "text/plain": [
       "['João', 'Maria', 'José', 'Clara', 'Cláudia']"
      ]
     },
     "execution_count": 10,
     "metadata": {},
     "output_type": "execute_result"
    }
   ],
   "source": [
    "lista_nomes = input(\"Digite uma lista de nomes separados por vírgulas:\")\n",
    "lista_nomes.split (\",\")"
   ]
  }
 ],
 "metadata": {
  "kernelspec": {
   "display_name": "Python 3",
   "language": "python",
   "name": "python3"
  },
  "language_info": {
   "codemirror_mode": {
    "name": "ipython",
    "version": 3
   },
   "file_extension": ".py",
   "mimetype": "text/x-python",
   "name": "python",
   "nbconvert_exporter": "python",
   "pygments_lexer": "ipython3",
   "version": "3.11.4"
  },
  "orig_nbformat": 4
 },
 "nbformat": 4,
 "nbformat_minor": 2
}
