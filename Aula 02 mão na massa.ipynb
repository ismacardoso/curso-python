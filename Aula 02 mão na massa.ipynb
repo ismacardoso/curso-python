{
 "cells": [
  {
   "cell_type": "code",
   "execution_count": 3,
   "metadata": {},
   "outputs": [
    {
     "name": "stdout",
     "output_type": "stream",
     "text": [
      "Seu novo saldo é 650.6\n"
     ]
    }
   ],
   "source": [
    "saldo = 950.60\n",
    "saque = float(input(\"Quanto você deseja sacar?\"))\n",
    "novo_saldo = saldo - saque \n",
    "print(f\"Seu novo saldo é {novo_saldo}\")\n"
   ]
  },
  {
   "cell_type": "code",
   "execution_count": 1,
   "metadata": {},
   "outputs": [
    {
     "data": {
      "text/plain": [
       "{'Abacaxi', 'Banana', 'Laranja', 'Maçã', 'Pera'}"
      ]
     },
     "execution_count": 1,
     "metadata": {},
     "output_type": "execute_result"
    }
   ],
   "source": [
    "{\"Banana\", \"Maçã\", \"Laranja\", \"Pera\", \"Abacaxi\", input (\"Digite o nome de uma fruta\")}"
   ]
  },
  {
   "cell_type": "code",
   "execution_count": 3,
   "metadata": {},
   "outputs": [
    {
     "name": "stdout",
     "output_type": "stream",
     "text": [
      "Um* *d*** m**t* b**\n"
     ]
    }
   ],
   "source": [
    "frase = input(\"Escreva uma frase:\")\n",
    "nova_frase = frase.replace (\"a\",\"*\").replace (\"e\",\"*\").replace (\"i\",\"*\").replace (\"o\",\"*\").replace (\"u\",\"*\")\n",
    "print(nova_frase)"
   ]
  }
 ],
 "metadata": {
  "kernelspec": {
   "display_name": "Python 3",
   "language": "python",
   "name": "python3"
  },
  "language_info": {
   "codemirror_mode": {
    "name": "ipython",
    "version": 3
   },
   "file_extension": ".py",
   "mimetype": "text/x-python",
   "name": "python",
   "nbconvert_exporter": "python",
   "pygments_lexer": "ipython3",
   "version": "3.11.5"
  },
  "orig_nbformat": 4
 },
 "nbformat": 4,
 "nbformat_minor": 2
}
