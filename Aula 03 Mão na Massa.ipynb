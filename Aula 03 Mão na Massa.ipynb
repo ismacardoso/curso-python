{
 "cells": [
  {
   "cell_type": "code",
   "execution_count": 7,
   "metadata": {},
   "outputs": [
    {
     "name": "stdout",
     "output_type": "stream",
     "text": [
      "3 é ímpar\n"
     ]
    }
   ],
   "source": [
    "numero = int(input('Escreva um número inteiro'))\n",
    "if numero % 2 == 0:\n",
    "    print(f'{numero} é par')\n",
    "else:\n",
    "    print(f'{numero} é ímpar')"
   ]
  },
  {
   "cell_type": "code",
   "execution_count": 8,
   "metadata": {},
   "outputs": [
    {
     "name": "stdout",
     "output_type": "stream",
     "text": [
      "Esta 4\n",
      "é 1\n",
      "uma 3\n",
      "frase 5\n",
      "de 2\n",
      "exemplo 7\n"
     ]
    }
   ],
   "source": [
    "frase = input('Escreva uma frase')\n",
    "for palavra in frase.split(' '):\n",
    "    print(palavra, len(palavra))"
   ]
  },
  {
   "cell_type": "code",
   "execution_count": 5,
   "metadata": {},
   "outputs": [
    {
     "name": "stdout",
     "output_type": "stream",
     "text": [
      "Senha correta!\n"
     ]
    }
   ],
   "source": [
    "senha = int(input('Digite uma senha numérica de quatro dígitos:'))\n",
    "while senha != 1234:\n",
    "    senha = int(input('Senha incorreta. Digite novamente:'))\n",
    "else: \n",
    "    print('Senha correta!')\n"
   ]
  },
  {
   "cell_type": "code",
   "execution_count": 33,
   "metadata": {},
   "outputs": [
    {
     "name": "stdout",
     "output_type": "stream",
     "text": [
      "720\n"
     ]
    }
   ],
   "source": [
    "n =  int(input('Digite um número inteiro:'))\n",
    "fatorial = 1\n",
    "for c in range(n, 1, -1):\n",
    "    fatorial = fatorial * c\n",
    "print(fatorial)"
   ]
  },
  {
   "cell_type": "code",
   "execution_count": 38,
   "metadata": {},
   "outputs": [
    {
     "name": "stdout",
     "output_type": "stream",
     "text": [
      "232\n",
      "321\n",
      "589\n",
      "547\n"
     ]
    }
   ],
   "source": [
    "tabela = {\n",
    "        'Mês': ['Janeiro', 'Fevereiro', 'Março', 'Abril'], \n",
    "        'Quantidade': [232, 321, 589, 547]\n",
    "}\n",
    "\n",
    "for valores in tabela['Quantidade']:\n",
    "    print(valores)\n"
   ]
  }
 ],
 "metadata": {
  "kernelspec": {
   "display_name": "Python 3",
   "language": "python",
   "name": "python3"
  },
  "language_info": {
   "codemirror_mode": {
    "name": "ipython",
    "version": 3
   },
   "file_extension": ".py",
   "mimetype": "text/x-python",
   "name": "python",
   "nbconvert_exporter": "python",
   "pygments_lexer": "ipython3",
   "version": "3.11.5"
  },
  "orig_nbformat": 4
 },
 "nbformat": 4,
 "nbformat_minor": 2
}
